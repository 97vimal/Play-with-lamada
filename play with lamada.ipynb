{
 "cells": [
  {
   "cell_type": "markdown",
   "id": "b2517013",
   "metadata": {},
   "source": [
    "# lamada"
   ]
  },
  {
   "cell_type": "code",
   "execution_count": 16,
   "id": "71269770",
   "metadata": {},
   "outputs": [
    {
     "name": "stdout",
     "output_type": "stream",
     "text": [
      "Enter Number (to add with 25) : 10\n",
      "The output after adding 25  :  35\n"
     ]
    }
   ],
   "source": [
    "input1 = int(input(\"Enter Number (to add with 25) : \"))\n",
    "function = lambda A:A+25\n",
    "print('The output after adding 25  : ' , function(input1))\n"
   ]
  },
  {
   "cell_type": "code",
   "execution_count": null,
   "id": "c5e5eaf4",
   "metadata": {},
   "outputs": [],
   "source": []
  },
  {
   "cell_type": "code",
   "execution_count": null,
   "id": "080bfc78",
   "metadata": {},
   "outputs": [],
   "source": []
  },
  {
   "cell_type": "code",
   "execution_count": null,
   "id": "3ade7e07",
   "metadata": {},
   "outputs": [],
   "source": []
  },
  {
   "cell_type": "code",
   "execution_count": null,
   "id": "8ce3a9d7",
   "metadata": {},
   "outputs": [],
   "source": []
  }
 ],
 "metadata": {
  "kernelspec": {
   "display_name": "Python 3 (ipykernel)",
   "language": "python",
   "name": "python3"
  },
  "language_info": {
   "codemirror_mode": {
    "name": "ipython",
    "version": 3
   },
   "file_extension": ".py",
   "mimetype": "text/x-python",
   "name": "python",
   "nbconvert_exporter": "python",
   "pygments_lexer": "ipython3",
   "version": "3.9.7"
  }
 },
 "nbformat": 4,
 "nbformat_minor": 5
}
